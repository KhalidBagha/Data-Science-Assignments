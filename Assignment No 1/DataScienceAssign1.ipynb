{
 "cells": [
  {
   "cell_type": "code",
   "execution_count": 16,
   "id": "3e494c96",
   "metadata": {},
   "outputs": [
    {
     "name": "stdout",
     "output_type": "stream",
     "text": [
      "Twinkle, twinkle, little star,\n",
      "\tHow I wonder what you are!\n",
      "\t\tUp above the world so high,\n",
      "\t\tLike a diamond in the sky.\n",
      "Twinkle, twinkle, little star,\n",
      "\tHow I wonder what you are.\n"
     ]
    }
   ],
   "source": [
    "print(\"Twinkle, twinkle, little star,\")\n",
    "print(\"\\tHow I wonder what you are!\")\n",
    "print(\"\\t\\tUp above the world so high,\")\n",
    "print(\"\\t\\tLike a diamond in the sky.\")\n",
    "print(\"Twinkle, twinkle, little star,\")\n",
    "print(\"\\tHow I wonder what you are.\")"
   ]
  },
  {
   "cell_type": "code",
   "execution_count": 3,
   "id": "32e65b6c",
   "metadata": {},
   "outputs": [
    {
     "data": {
      "text/plain": [
       "'3.8.8'"
      ]
     },
     "execution_count": 3,
     "metadata": {},
     "output_type": "execute_result"
    }
   ],
   "source": [
    "import platform\n",
    "platform.python_version()"
   ]
  },
  {
   "cell_type": "code",
   "execution_count": 10,
   "id": "04ac8fe0",
   "metadata": {},
   "outputs": [
    {
     "name": "stdout",
     "output_type": "stream",
     "text": [
      "Enter radius 2\n",
      "12.57\n"
     ]
    }
   ],
   "source": [
    "import math \n",
    "r=eval(input(\"Enter radius \"))\n",
    "area = math.pi * (r**2)\n",
    "print('{:.2f}'.format(area))"
   ]
  },
  {
   "cell_type": "code",
   "execution_count": 13,
   "id": "a8cf8e92",
   "metadata": {},
   "outputs": [
    {
     "name": "stdout",
     "output_type": "stream",
     "text": [
      "Enter First Name Khalid\n",
      "Enter Last Name Bagha\n",
      "Bagha Khalid\n"
     ]
    }
   ],
   "source": [
    "firstName= input(\"Enter First Name \")\n",
    "lastName= input(\"Enter Last Name \")\n",
    "print(lastName,firstName)"
   ]
  },
  {
   "cell_type": "code",
   "execution_count": 8,
   "id": "9394bc48",
   "metadata": {},
   "outputs": [
    {
     "name": "stdout",
     "output_type": "stream",
     "text": [
      "Enter 1st Number 2\n",
      "Enter 2nd Number 3\n",
      "The sum of numbers is 5\n"
     ]
    }
   ],
   "source": [
    "num1 = eval(input(\"Enter 1st Number \"))\n",
    "num`2 = eval(input(\"Enter 2nd Number \"))\n",
    "\n",
    "print('The sum of numbers is',num1+num2)"
   ]
  },
  {
   "cell_type": "code",
   "execution_count": 27,
   "id": "4fc90c13",
   "metadata": {},
   "outputs": [
    {
     "name": "stdout",
     "output_type": "stream",
     "text": [
      "01/01/22 \t 05:01 PM\n"
     ]
    }
   ],
   "source": [
    "import time\n",
    "print(time.strftime(\"%x \\t %I:%M %p\",time.localtime()))"
   ]
  },
  {
   "cell_type": "code",
   "execution_count": null,
   "id": "c4e1baec",
   "metadata": {},
   "outputs": [],
   "source": []
  }
 ],
 "metadata": {
  "kernelspec": {
   "display_name": "Python 3",
   "language": "python",
   "name": "python3"
  },
  "language_info": {
   "codemirror_mode": {
    "name": "ipython",
    "version": 3
   },
   "file_extension": ".py",
   "mimetype": "text/x-python",
   "name": "python",
   "nbconvert_exporter": "python",
   "pygments_lexer": "ipython3",
   "version": "3.8.8"
  }
 },
 "nbformat": 4,
 "nbformat_minor": 5
}
